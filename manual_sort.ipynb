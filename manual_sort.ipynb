{
  "nbformat": 4,
  "nbformat_minor": 0,
  "metadata": {
    "colab": {
      "provenance": [],
      "authorship_tag": "ABX9TyN0IXULhUSoP+pDuG9+Kw26",
      "include_colab_link": true
    },
    "kernelspec": {
      "name": "python3",
      "display_name": "Python 3"
    },
    "language_info": {
      "name": "python"
    }
  },
  "cells": [
    {
      "cell_type": "markdown",
      "metadata": {
        "id": "view-in-github",
        "colab_type": "text"
      },
      "source": [
        "<a href=\"https://colab.research.google.com/github/GenaroHacker/manual_sort/blob/main/manual_sort.ipynb\" target=\"_parent\"><img src=\"https://colab.research.google.com/assets/colab-badge.svg\" alt=\"Open In Colab\"/></a>"
      ]
    },
    {
      "cell_type": "code",
      "execution_count": 1,
      "metadata": {
        "id": "YQmrznrrsc8r",
        "colab": {
          "base_uri": "https://localhost:8080/"
        },
        "outputId": "9a4065ef-6eda-41bd-e37b-6c7e6f740bdc"
      },
      "outputs": [
        {
          "output_type": "stream",
          "name": "stdout",
          "text": [
            "Do you like this string? (y/n) \n",
            "1\n",
            "n\n",
            "Do you like this string? (y/n) \n",
            "2\n",
            "n\n",
            "Do you like this string? (y/n) \n",
            "3\n",
            "n\n",
            "Do you like this string? (y/n) \n",
            "4\n",
            "y\n",
            "You have selected 1 strings so far.\n",
            "Do you like this string? (y/n) \n",
            "5\n",
            "y\n",
            "You have selected 2 strings so far.\n",
            "Do you like this string? (y/n) \n",
            "6\n",
            "y\n",
            "You have selected 3 strings so far.\n",
            "Do you like this string? (y/n) \n",
            "7\n",
            "y\n",
            "You have selected 4 strings so far.\n",
            "[6](1) or \n",
            "[7](2) ?\n",
            "--> y\n",
            "1 or 2, please!\n",
            "[6](1) or \n",
            "[7](2) ?\n",
            "--> y\n",
            "1 or 2, please!\n",
            "[6](1) or \n",
            "[7](2) ?\n",
            "--> 1\n",
            "[5](1) or \n",
            "[6](2) ?\n",
            "--> 2\n",
            "[5](1) or \n",
            "[6](2) ?\n",
            "--> 2\n",
            "[5](1) or \n",
            "[7](2) ?\n",
            "--> 2\n",
            "[4](1) or \n",
            "[7](2) ?\n",
            "--> 2\n",
            "[4](1) or \n",
            "[5](2) ?\n",
            "--> 2\n",
            "Here's your list from highest to lowest:\n",
            "6\n",
            "7\n",
            "5\n",
            "4\n"
          ]
        }
      ],
      "source": [
        "my_list = \"\"\"\n",
        "\n",
        "\n",
        "\n",
        "\n",
        "\n",
        "\"\"\"\n",
        "\n",
        "\n",
        "\n",
        "\n",
        "def string_to_list(string):\n",
        "    string = string.split('\\n')\n",
        "    string = [line.strip() for line in string if line.strip()]\n",
        "    return string\n",
        "\n",
        "import functools\n",
        "\n",
        "def ask_user_cmp(item1, item2):\n",
        "    while True:\n",
        "        print(f\"[{item1}](1) or \\n[{item2}](2) ?\")\n",
        "        cmp = input(\"--> \")\n",
        "        if cmp == \"1\":\n",
        "            return 1\n",
        "        if cmp == \"2\":\n",
        "            return -1\n",
        "        print(\"1 or 2, please!\")\n",
        "\n",
        "def user_filter(list_of_strings):\n",
        "    best = []\n",
        "    #the most efficient way to do this is to use a for loop\n",
        "    for i in range(len(list_of_strings)):\n",
        "        user_imput = input(\"Do you like this string? (y/n) \\n\" + list_of_strings[i] + \"\\n\")\n",
        "        if user_imput == \"y\":\n",
        "            best.append(list_of_strings[i])\n",
        "            print(\"You have selected \" + str(len(best)) + \" strings so far.\")\n",
        "    return best\n",
        "ask_user_key = functools.cmp_to_key(ask_user_cmp)\n",
        "\n",
        "items_to_sort =  string_to_list(my_list)\n",
        "items_to_sort = user_filter(items_to_sort)\n",
        "items_to_sort.sort(key=ask_user_key, reverse=True)\n",
        "print(\"Here's your list from highest to lowest:\")\n",
        "for i in items_to_sort:\n",
        "  print(i)"
      ]
    }
  ]
}