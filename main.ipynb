{
  "nbformat": 4,
  "nbformat_minor": 0,
  "metadata": {
    "colab": {
      "provenance": [],
      "authorship_tag": "ABX9TyNPx0vNBXrB41SVb0/y0/XH",
      "include_colab_link": true
    },
    "kernelspec": {
      "name": "python3",
      "display_name": "Python 3"
    },
    "language_info": {
      "name": "python"
    }
  },
  "cells": [
    {
      "cell_type": "markdown",
      "metadata": {
        "id": "view-in-github",
        "colab_type": "text"
      },
      "source": [
        "<a href=\"https://colab.research.google.com/github/GenaroHacker/manual_sort/blob/main/main.ipynb\" target=\"_parent\"><img src=\"https://colab.research.google.com/assets/colab-badge.svg\" alt=\"Open In Colab\"/></a>"
      ]
    },
    {
      "cell_type": "code",
      "source": [
        "#@title imprt\n",
        "# imprt\n",
        "!git clone https://github.com/GenaroHacker/manual_sort.git\n",
        "from manual_sort.manual_sort import ask_user_cmp\n",
        "from manual_sort.string_to_list import string_to_list\n",
        "from manual_sort.user_filter import user_filter\n",
        "import functools"
      ],
      "metadata": {
        "cellView": "form",
        "id": "kL2BkgkaO3o5",
        "outputId": "39b4295a-735f-46f4-fba1-7cf75e590d01",
        "colab": {
          "base_uri": "https://localhost:8080/"
        }
      },
      "execution_count": 1,
      "outputs": [
        {
          "output_type": "stream",
          "name": "stdout",
          "text": [
            "Cloning into 'manual_sort'...\n",
            "remote: Enumerating objects: 47, done.\u001b[K\n",
            "remote: Counting objects: 100% (47/47), done.\u001b[K\n",
            "remote: Compressing objects: 100% (46/46), done.\u001b[K\n",
            "remote: Total 47 (delta 18), reused 0 (delta 0), pack-reused 0\u001b[K\n",
            "Receiving objects: 100% (47/47), 12.95 KiB | 294.00 KiB/s, done.\n",
            "Resolving deltas: 100% (18/18), done.\n"
          ]
        }
      ]
    },
    {
      "cell_type": "code",
      "source": [
        "# exec\n",
        "ask_user_key = functools.cmp_to_key(ask_user_cmp)\n",
        "items_to_sort = string_to_list(\n",
        "\"\"\"\n",
        "\n",
        "pizza\n",
        "cheeseburger\n",
        "beef\n",
        "soup\n",
        "ice cream\n",
        "\n",
        "\"\"\")\n",
        "\n",
        "items_to_sort = user_filter(items_to_sort)\n",
        "\n",
        "\n",
        "items_to_sort.sort(key=ask_user_key, reverse=True)\n",
        "\n",
        "\n",
        "# prnt\n",
        "print(\"Here's your list from highest to lowest:\")\n",
        "print(items_to_sort)"
      ],
      "metadata": {
        "colab": {
          "base_uri": "https://localhost:8080/"
        },
        "id": "hVSHFIB5HbBK",
        "outputId": "6a705f04-1973-4fde-c430-0d8b750eea09"
      },
      "execution_count": 3,
      "outputs": [
        {
          "output_type": "stream",
          "name": "stdout",
          "text": [
            "Do you like this string? (y/n) \n",
            "pizza\n",
            "y\n",
            "You have selected 1 strings so far.\n",
            "Do you like this string? (y/n) \n",
            "cheeseburger\n",
            "y\n",
            "You have selected 2 strings so far.\n",
            "Do you like this string? (y/n) \n",
            "beef\n",
            "y\n",
            "You have selected 3 strings so far.\n",
            "Do you like this string? (y/n) \n",
            "soup\n",
            "n\n",
            "Do you like this string? (y/n) \n",
            "ice cream\n",
            "n\n",
            " [ 1 ] [cheeseburger] ?\n",
            " [ 2 ] [beef] ?\n",
            " --> ? 1\n",
            " [ 1 ] [pizza] ?\n",
            " [ 2 ] [cheeseburger] ?\n",
            " --> ? 1\n",
            "Here's your list from highest to lowest:\n",
            "['pizza', 'cheeseburger', 'beef']\n"
          ]
        }
      ]
    }
  ]
}