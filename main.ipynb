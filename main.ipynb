{
  "nbformat": 4,
  "nbformat_minor": 0,
  "metadata": {
    "colab": {
      "provenance": [],
      "authorship_tag": "ABX9TyMw/7TtlT1Kt5dg24SNyfXl",
      "include_colab_link": true
    },
    "kernelspec": {
      "name": "python3",
      "display_name": "Python 3"
    },
    "language_info": {
      "name": "python"
    }
  },
  "cells": [
    {
      "cell_type": "markdown",
      "metadata": {
        "id": "view-in-github",
        "colab_type": "text"
      },
      "source": [
        "<a href=\"https://colab.research.google.com/github/GenaroHacker/manual_sort/blob/main/main.ipynb\" target=\"_parent\"><img src=\"https://colab.research.google.com/assets/colab-badge.svg\" alt=\"Open In Colab\"/></a>"
      ]
    },
    {
      "cell_type": "code",
      "source": [
        "#@title imprt\n",
        "# imprt\n",
        "!git clone https://github.com/GenaroHacker/manual_sort.git\n",
        "from manual_sort.manual_sort import ask_user_cmp\n",
        "from manual_sort.string_to_list import string_to_list\n",
        "import functools"
      ],
      "metadata": {
        "cellView": "form",
        "id": "kL2BkgkaO3o5",
        "outputId": "84f41461-67c1-414d-9b73-a5eff00484f0",
        "colab": {
          "base_uri": "https://localhost:8080/"
        }
      },
      "execution_count": 2,
      "outputs": [
        {
          "output_type": "stream",
          "name": "stdout",
          "text": [
            "fatal: destination path 'manual_sort' already exists and is not an empty directory.\n"
          ]
        }
      ]
    },
    {
      "cell_type": "code",
      "source": [
        "# @title Manual Sort\n",
        "# exec\n",
        "ask_user_key = functools.cmp_to_key(ask_user_cmp)\n",
        "items_to_sort = string_to_list(\n",
        "\"\"\"\n",
        "\n",
        "pizza\n",
        "cheeseburger\n",
        "beef\n",
        "soup\n",
        "ice cream\n",
        "\n",
        "\"\"\")\n",
        "\n",
        "\n",
        "\n",
        "items_to_sort.sort(key=ask_user_key, reverse=True)\n",
        "\n",
        "\n",
        "# prnt\n",
        "print(\"Here's your list from highest to lowest:\")\n",
        "print(items_to_sort)"
      ],
      "metadata": {
        "colab": {
          "base_uri": "https://localhost:8080/"
        },
        "id": "hVSHFIB5HbBK",
        "outputId": "9eccdf6e-5f3e-4aec-86de-4f97fb630f3e",
        "cellView": "form"
      },
      "execution_count": 3,
      "outputs": [
        {
          "output_type": "stream",
          "name": "stdout",
          "text": [
            " [ 1 ] [soup] ?\n",
            " [ 2 ] [ice cream] ?\n",
            " --> ? 1\n",
            " [ 1 ] [beef] ?\n",
            " [ 2 ] [soup] ?\n",
            " --> ? 2\n",
            " [ 1 ] [beef] ?\n",
            " [ 2 ] [soup] ?\n",
            " --> ? 2\n",
            " [ 1 ] [beef] ?\n",
            " [ 2 ] [ice cream] ?\n",
            " --> ? 1\n",
            " [ 1 ] [cheeseburger] ?\n",
            " [ 2 ] [beef] ?\n",
            " --> ? 1\n",
            " [ 1 ] [cheeseburger] ?\n",
            " [ 2 ] [soup] ?\n",
            " --> ? 1\n",
            " [ 1 ] [pizza] ?\n",
            " [ 2 ] [soup] ?\n",
            " --> ? 1\n",
            " [ 1 ] [pizza] ?\n",
            " [ 2 ] [cheeseburger] ?\n",
            " --> ? 1\n",
            "Here's your list from highest to lowest:\n",
            "['pizza', 'cheeseburger', 'soup', 'beef', 'ice cream']\n"
          ]
        }
      ]
    }
  ]
}