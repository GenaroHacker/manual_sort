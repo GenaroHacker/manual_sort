{
  "nbformat": 4,
  "nbformat_minor": 0,
  "metadata": {
    "colab": {
      "provenance": [],
      "authorship_tag": "ABX9TyM90mphOFqEeCC6NeEt3GHB",
      "include_colab_link": true
    },
    "kernelspec": {
      "name": "python3",
      "display_name": "Python 3"
    },
    "language_info": {
      "name": "python"
    }
  },
  "cells": [
    {
      "cell_type": "markdown",
      "metadata": {
        "id": "view-in-github",
        "colab_type": "text"
      },
      "source": [
        "<a href=\"https://colab.research.google.com/github/GenaroHacker/manual_sort/blob/main/main.ipynb\" target=\"_parent\"><img src=\"https://colab.research.google.com/assets/colab-badge.svg\" alt=\"Open In Colab\"/></a>"
      ]
    },
    {
      "cell_type": "code",
      "source": [
        "!git clone https://github.com/GenaroHacker/manual_sort.git\n",
        "\n",
        "from manual_sort.manual_sort import ask_user_cmp\n",
        "import functools\n",
        "ask_user_key = functools.cmp_to_key(ask_user_cmp)\n",
        "\n",
        "items_to_sort = [\"pizza\", \"cheeseburger\", \"beef\", \"soup\", \"ice cream\"]\n",
        "items_to_sort.sort(key=ask_user_key, reverse=True)\n",
        "print(\"Here's your list from highest to lowest:\")\n",
        "print(items_to_sort)"
      ],
      "metadata": {
        "id": "hVSHFIB5HbBK",
        "outputId": "87266d27-7e17-42c9-c9b6-c23d4f8653aa",
        "colab": {
          "base_uri": "https://localhost:8080/"
        }
      },
      "execution_count": 3,
      "outputs": [
        {
          "output_type": "stream",
          "name": "stdout",
          "text": [
            "fatal: destination path 'manual_sort' already exists and is not an empty directory.\n",
            "[soup](1) or [ice cream](2) ?\n",
            "--> 2\n",
            "[beef](1) or [soup](2) ?\n",
            "--> 1\n",
            "[beef](1) or [ice cream](2) ?\n",
            "--> 1\n",
            "[cheeseburger](1) or [ice cream](2) ?\n",
            "--> 1\n",
            "[cheeseburger](1) or [beef](2) ?\n",
            "--> 1\n",
            "[pizza](1) or [beef](2) ?\n",
            "--> 2\n",
            "[pizza](1) or [ice cream](2) ?\n",
            "--> 1\n",
            "Here's your list from highest to lowest:\n",
            "['cheeseburger', 'beef', 'pizza', 'ice cream', 'soup']\n"
          ]
        }
      ]
    }
  ]
}