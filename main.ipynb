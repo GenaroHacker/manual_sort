{
  "nbformat": 4,
  "nbformat_minor": 0,
  "metadata": {
    "colab": {
      "provenance": [],
      "authorship_tag": "ABX9TyPwxfUyXZOaFNKEXG3aqvCe",
      "include_colab_link": true
    },
    "kernelspec": {
      "name": "python3",
      "display_name": "Python 3"
    },
    "language_info": {
      "name": "python"
    }
  },
  "cells": [
    {
      "cell_type": "markdown",
      "metadata": {
        "id": "view-in-github",
        "colab_type": "text"
      },
      "source": [
        "<a href=\"https://colab.research.google.com/github/GenaroHacker/manual_sort/blob/main/main.ipynb\" target=\"_parent\"><img src=\"https://colab.research.google.com/assets/colab-badge.svg\" alt=\"Open In Colab\"/></a>"
      ]
    },
    {
      "cell_type": "code",
      "source": [
        "#@title imprt\n",
        "# imprt\n",
        "!git clone https://github.com/GenaroHacker/manual_sort.git\n",
        "from manual_sort.manual_sort import ask_user_cmp\n",
        "from manual_sort.string_to_list import string_to_list\n",
        "from manual_sort.user_filter import user_filter\n",
        "import functools"
      ],
      "metadata": {
        "cellView": "form",
        "id": "kL2BkgkaO3o5",
        "outputId": "f3b0a912-879c-4f3e-8fab-62cba954fb46",
        "colab": {
          "base_uri": "https://localhost:8080/"
        }
      },
      "execution_count": 1,
      "outputs": [
        {
          "output_type": "stream",
          "name": "stdout",
          "text": [
            "Cloning into 'manual_sort'...\n",
            "remote: Enumerating objects: 50, done.\u001b[K\n",
            "remote: Counting objects: 100% (50/50), done.\u001b[K\n",
            "remote: Compressing objects: 100% (49/49), done.\u001b[K\n",
            "remote: Total 50 (delta 19), reused 0 (delta 0), pack-reused 0\u001b[K\n",
            "Receiving objects: 100% (50/50), 13.66 KiB | 6.83 MiB/s, done.\n",
            "Resolving deltas: 100% (19/19), done.\n"
          ]
        }
      ]
    },
    {
      "cell_type": "code",
      "source": [
        "# @title Manual Sort\n",
        "# exec\n",
        "ask_user_key = functools.cmp_to_key(ask_user_cmp)\n",
        "items_to_sort = string_to_list(\n",
        "\"\"\"\n",
        "\n",
        "pizza\n",
        "cheeseburger\n",
        "beef\n",
        "soup\n",
        "ice cream\n",
        "\n",
        "\"\"\")\n",
        "\n",
        "\n",
        "\n",
        "items_to_sort.sort(key=ask_user_key, reverse=True)\n",
        "\n",
        "\n",
        "# prnt\n",
        "print(\"Here's your list from highest to lowest:\")\n",
        "print(items_to_sort)"
      ],
      "metadata": {
        "colab": {
          "base_uri": "https://localhost:8080/"
        },
        "id": "hVSHFIB5HbBK",
        "outputId": "b823a6de-e941-4d33-f197-40e667846ad3",
        "cellView": "form"
      },
      "execution_count": 2,
      "outputs": [
        {
          "output_type": "stream",
          "name": "stdout",
          "text": [
            " [ 1 ] [soup] ?\n",
            " [ 2 ] [ice cream] ?\n",
            " --> ? 2\n",
            " [ 1 ] [beef] ?\n",
            " [ 2 ] [soup] ?\n",
            " --> ? 1\n",
            " [ 1 ] [beef] ?\n",
            " [ 2 ] [ice cream] ?\n",
            " --> ? 1\n",
            " [ 1 ] [cheeseburger] ?\n",
            " [ 2 ] [ice cream] ?\n",
            " --> ? 1\n",
            " [ 1 ] [cheeseburger] ?\n",
            " [ 2 ] [beef] ?\n",
            " --> ? 1\n",
            " [ 1 ] [pizza] ?\n",
            " [ 2 ] [beef] ?\n",
            " --> ? 1\n",
            " [ 1 ] [pizza] ?\n",
            " [ 2 ] [cheeseburger] ?\n",
            " --> ? 1\n",
            "Here's your list from highest to lowest:\n",
            "['pizza', 'cheeseburger', 'beef', 'ice cream', 'soup']\n"
          ]
        }
      ]
    }
  ]
}