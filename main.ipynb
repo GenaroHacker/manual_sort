{
  "nbformat": 4,
  "nbformat_minor": 0,
  "metadata": {
    "colab": {
      "provenance": [],
      "authorship_tag": "ABX9TyNPx0vNBXrB41SVb0/y0/XH",
      "include_colab_link": true
    },
    "kernelspec": {
      "name": "python3",
      "display_name": "Python 3"
    },
    "language_info": {
      "name": "python"
    }
  },
  "cells": [
    {
      "cell_type": "markdown",
      "metadata": {
        "id": "view-in-github",
        "colab_type": "text"
      },
      "source": [
        "<a href=\"https://colab.research.google.com/github/GenaroHacker/manual_sort/blob/main/main.ipynb\" target=\"_parent\"><img src=\"https://colab.research.google.com/assets/colab-badge.svg\" alt=\"Open In Colab\"/></a>"
      ]
    },
    {
      "cell_type": "code",
      "source": [
        "#@title imprt\n",
        "# imprt\n",
        "!git clone https://github.com/GenaroHacker/manual_sort.git\n",
        "from manual_sort.manual_sort import ask_user_cmp\n",
        "from manual_sort.string_to_list import string_to_list\n",
        "from manual_sort.user_filter import user_filter\n",
        "import functools"
      ],
      "metadata": {
        "cellView": "form",
        "id": "kL2BkgkaO3o5"
      },
      "execution_count": null,
      "outputs": []
    },
    {
      "cell_type": "code",
      "source": [
        "# exec\n",
        "ask_user_key = functools.cmp_to_key(ask_user_cmp)\n",
        "items_to_sort = string_to_list(\n",
        "\"\"\"\n",
        "\n",
        "pizza\n",
        "cheeseburger\n",
        "beef\n",
        "soup\n",
        "ice cream\n",
        "\n",
        "\"\"\")\n",
        "\n",
        "items_to_sort = user_filter(items_to_sort)\n",
        "\n",
        "\n",
        "items_to_sort.sort(key=ask_user_key, reverse=True)\n",
        "\n",
        "\n",
        "# prnt\n",
        "print(\"Here's your list from highest to lowest:\")\n",
        "print(items_to_sort)"
      ],
      "metadata": {
        "colab": {
          "base_uri": "https://localhost:8080/"
        },
        "id": "hVSHFIB5HbBK",
        "outputId": "bab94d62-3912-47d0-faee-3dd5c2990e19"
      },
      "execution_count": 12,
      "outputs": [
        {
          "output_type": "stream",
          "name": "stdout",
          "text": [
            "Do you like this string? (y/n) \n",
            "pizza\n",
            "n\n",
            "Do you like this string? (y/n) \n",
            "cheeseburger\n",
            "n\n",
            "Do you like this string? (y/n) \n",
            "beef\n",
            "n\n",
            "Do you like this string? (y/n) \n",
            "soup\n",
            "n\n",
            "Do you like this string? (y/n) \n",
            "ice cream\n",
            "n\n",
            "Here's your list from highest to lowest:\n",
            "[]\n"
          ]
        }
      ]
    }
  ]
}